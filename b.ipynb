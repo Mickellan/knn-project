{
 "cells": [
  {
   "cell_type": "code",
   "execution_count": 18,
   "id": "d4ebecd3",
   "metadata": {},
   "outputs": [],
   "source": [
    "import torch\n",
    "import torch.nn as nn\n",
    "import numpy as np\n",
    "import pandas as pd\n",
    "import os\n",
    "\n",
    "from torch.utils.data import Dataset\n",
    "\n",
    "import pandas, random, numpy\n",
    "import matplotlib.pyplot as plt\n",
    "\n",
    "from PIL import Image, ImageOps\n",
    "\n",
    "\n",
    "import glob\n",
    "import PIL\n",
    "\n",
    "from sklearn.model_selection import train_test_split"
   ]
  },
  {
   "cell_type": "code",
   "execution_count": 19,
   "id": "77f93f8e",
   "metadata": {},
   "outputs": [],
   "source": [
    "def label_func2(fname):\n",
    "    # Extract the filename without the directory path and extension\n",
    "    fname = os.path.basename(fname)\n",
    "    fname = os.path.splitext(fname)[0]\n",
    "    \n",
    "    # Split the filename by underscore\n",
    "    temp_name = fname.split(\"_\")\n",
    "    \n",
    "    # Extract and convert the label values\n",
    "    y0 = temp_name[0]  # Extract the first part of the filename\n",
    "    y1 = float(temp_name[1].split(\"-\")[1]) if len(temp_name) > 1 else 0.0  # Extract and convert the weight value\n",
    "    y2 = float(temp_name[2].split(\"-\")[1]) if len(temp_name) > 2 else 0.0  # Extract and convert the color value\n",
    "    y3 = float(temp_name[3].split(\"-\")[1]) if len(temp_name) > 3 else 0.0  # Extract and convert the roundness value\n",
    "    y4 = float(temp_name[4].split(\"-\")[1]) if len(temp_name) > 4 else 0.0  # Extract and convert the texture smoothness value\n",
    "    y5 = float(temp_name[5].split(\"-\")[1]) if len(temp_name) > 5 else 0.0  # Extract and convert the symmetry value\n",
    "    \n",
    "    return [fname, y0, y1, y2, y3, y4, y5]\n",
    "    print(label_func2(\"W-.3_C-1_R-.4_T-0_S-.7.jpg\"))\n",
    "\n",
    "civs_path = r\"C:\\Users\\micke\\OneDrive\\Documents\\its 372\\resized_images\"\n",
    "path = civs_path\n",
    "paths = glob.glob(path + \"/*.jpg\")\n",
    "n_images = len(paths)\n",
    "\n",
    "rand_idxs = np.random.permutation(n_images)\n",
    "paths_subset = np.random.choice(paths, n_images, replace=False)\n",
    "all_paths = paths_subset[rand_idxs]\n",
    "\n",
    "list_imgs = []\n",
    "list_label_vectors = []\n",
    "\n",
    "for img_name in all_paths:\n",
    "    my_img = Image.open(img_name)\n",
    "    \n",
    "    # Resize the image to the desired dimensions\n",
    "    my_img = my_img.resize((39, 140))\n",
    "    \n",
    "    # Convert the image to RGB format\n",
    "    my_img = my_img.convert('RGB')\n",
    "\n",
    "    img_np = np.array(my_img)\n",
    "    \n",
    "    # Extract label vectors using your label function\n",
    "    temp_label_vector_rc = label_func2(img_name)\n",
    "    \n",
    "    # Check if the condition meets your criteria\n",
    "    if condition_meets_criteria(temp_label_vector_rc):\n",
    "        list_imgs.append(img_np)\n",
    "        list_label_vectors.append(temp_label_vector_rc)\n",
    "\n",
    "# Convert lists to numpy arrays\n",
    "X = np.array(list_imgs)\n",
    "y = np.array(list_label_vectors)\n",
    "\n",
    "# Check if the filtered dataset is not empty before splitting\n",
    "if len(X) > 0:\n",
    "    # Split the data into train and test sets\n",
    "    from sklearn.model_selection import train_test_split\n",
    "    X_train, X_test, y_train, y_test = train_test_split(X, y, test_size=0.20, random_state=42)\n",
    "\n",
    "    # Save train and test data to CSV files\n",
    "    DF_X_train = pd.DataFrame(X_train.reshape(X_train.shape[0], -1))\n",
    "    DF_X_train.to_csv(\"X_train.csv\")\n",
    "\n",
    "    DF_X_test = pd.DataFrame(X_test.reshape(X_test.shape[0], -1))\n",
    "    DF_X_test.to_csv(\"X_test.csv\")\n",
    "\n",
    "    DF_y_train = pd.DataFrame(y_train)\n",
    "    DF_y_train.to_csv(\"y_train.csv\")\n",
    "\n",
    "    DF_y_test = pd.DataFrame(y_test)\n",
    "    DF_y_test.to_csv(\"y_test.csv\")\n",
    "else:\n",
    "    print(\"Filtered dataset is empty. Adjust the filtering criteria.\")"
   ]
  },
  {
   "cell_type": "code",
   "execution_count": 20,
   "id": "8f753189",
   "metadata": {},
   "outputs": [
    {
     "name": "stdout",
     "output_type": "stream",
     "text": [
      "['W-.3_C-1_R-.4_T-0_S-.7', 'W-.3', 1.0, 0.4, 0.0, 0.7, 0.0]\n"
     ]
    }
   ],
   "source": [
    "result = label_func2(\"W-.3_C-1_R-.4_T-0_S-.7.jpg\")\n",
    "print(result)"
   ]
  },
  {
   "cell_type": "code",
   "execution_count": 21,
   "id": "a34ba890",
   "metadata": {},
   "outputs": [],
   "source": [
    "df_labels = pd.DataFrame(list_label_vectors, columns=['Filename', 'Y0', 'Y1', 'Y2', 'Y3', 'Y4', 'Y5'])\n",
    "df_labels.to_csv('label_vectors.csv', index=False)"
   ]
  },
  {
   "cell_type": "code",
   "execution_count": null,
   "id": "bff4631a",
   "metadata": {},
   "outputs": [],
   "source": []
  }
 ],
 "metadata": {
  "kernelspec": {
   "display_name": "Python 3 (ipykernel)",
   "language": "python",
   "name": "python3"
  },
  "language_info": {
   "codemirror_mode": {
    "name": "ipython",
    "version": 3
   },
   "file_extension": ".py",
   "mimetype": "text/x-python",
   "name": "python",
   "nbconvert_exporter": "python",
   "pygments_lexer": "ipython3",
   "version": "3.11.5"
  }
 },
 "nbformat": 4,
 "nbformat_minor": 5
}
