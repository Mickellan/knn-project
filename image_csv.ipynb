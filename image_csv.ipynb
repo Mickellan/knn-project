{
 "cells": [
  {
   "cell_type": "code",
   "execution_count": null,
   "id": "355b22cb",
   "metadata": {},
   "outputs": [],
   "source": []
  },
  {
   "cell_type": "code",
   "execution_count": null,
   "id": "013ec189",
   "metadata": {},
   "outputs": [],
   "source": [
    "\n"
   ]
  },
  {
   "cell_type": "code",
   "execution_count": null,
   "id": "3570791d",
   "metadata": {},
   "outputs": [],
   "source": []
  },
  {
   "cell_type": "code",
   "execution_count": null,
   "id": "2b0f2197",
   "metadata": {},
   "outputs": [],
   "source": []
  },
  {
   "cell_type": "code",
   "execution_count": null,
   "id": "08eb4dc2",
   "metadata": {},
   "outputs": [],
   "source": []
  },
  {
   "cell_type": "code",
   "execution_count": 15,
   "id": "0c39e4e7",
   "metadata": {},
   "outputs": [
    {
     "name": "stdout",
     "output_type": "stream",
     "text": [
      "CSV file \"image_labels.csv\" has been created successfully.\n"
     ]
    }
   ],
   "source": [
    "import csv\n",
    "import os\n",
    "\n",
    "image_dir = r'C:\\Users\\micke\\OneDrive\\Documents\\ITS 372\\knn images'\n",
    "\n",
    "# List to store image filenames and labels\n",
    "data = []\n",
    "\n",
    "# Iterate through the images in the directory\n",
    "for filename in os.listdir(image_dir):\n",
    "    if filename.endswith('.jpg') or filename.endswith('.png'):\n",
    "        # Get the image filename\n",
    "        image_filename = filename\n",
    "        \n",
    "        # Extract labels from filename\n",
    "        weight = filename.split('_')[0] \n",
    "        color = filename.split('_')[1]   \n",
    "        roundness = filename.split('_')[2]  \n",
    "        texture = filename.split('_')[3]   \n",
    "        symmetry = filename.split('_')[4] \n",
    "        \n",
    "        # Append image filename and labels to the data list\n",
    "        data.append([image_filename, weight, color, roundness, texture, symmetry])\n",
    "\n",
    "# Write the data to a CSV file\n",
    "csv_file = 'image_labels.csv'\n",
    "with open(csv_file, 'w', newline='') as file:\n",
    "    writer = csv.writer(file)\n",
    "    writer.writerow(['Image Filename', 'Weight', 'Color', 'Roundness', 'Texture', 'Symmetry'])\n",
    "    writer.writerows(data)\n",
    "\n",
    "print(f'CSV file \"{csv_file}\" has been created successfully.')"
   ]
  },
  {
   "cell_type": "code",
   "execution_count": 13,
   "id": "3c52ca2d",
   "metadata": {},
   "outputs": [
    {
     "name": "stdout",
     "output_type": "stream",
     "text": [
      "CSV file \"image_labels.csv\" has been created successfully.\n"
     ]
    }
   ],
   "source": []
  },
  {
   "cell_type": "code",
   "execution_count": null,
   "id": "6a6be2e0",
   "metadata": {},
   "outputs": [],
   "source": []
  }
 ],
 "metadata": {
  "kernelspec": {
   "display_name": "Python 3 (ipykernel)",
   "language": "python",
   "name": "python3"
  },
  "language_info": {
   "codemirror_mode": {
    "name": "ipython",
    "version": 3
   },
   "file_extension": ".py",
   "mimetype": "text/x-python",
   "name": "python",
   "nbconvert_exporter": "python",
   "pygments_lexer": "ipython3",
   "version": "3.11.5"
  }
 },
 "nbformat": 4,
 "nbformat_minor": 5
}
